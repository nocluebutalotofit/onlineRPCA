{
 "cells": [
  {
   "cell_type": "code",
   "execution_count": null,
   "metadata": {},
   "outputs": [],
   "source": [
    "%load_ext autoreload\n",
    "%autoreload 2"
   ]
  },
  {
   "cell_type": "code",
   "execution_count": null,
   "metadata": {},
   "outputs": [],
   "source": [
    "# https://scikit-learn.org/stable/auto_examples/decomposition/plot_incremental_pca.html#sphx-glr-auto-examples-decomposition-plot-incremental-pca-py\n",
    "# Authors: Kyle Kastner\n",
    "# License: BSD 3 clause\n",
    "\n",
    "import numpy as np\n",
    "import pandas as pd\n",
    "import matplotlib.pyplot as plt\n",
    "\n",
    "from sklearn.datasets import load_iris\n",
    "from sklearn.decomposition import PCA, IncrementalPCA\n",
    "\n",
    "iris = load_iris()\n",
    "X = iris.data\n",
    "y = iris.target\n",
    "\n",
    "n_components = 2\n",
    "ipca = IncrementalPCA(n_components=n_components, batch_size=10)\n",
    "X_ipca = ipca.fit_transform(X)\n",
    "\n",
    "pca = PCA(n_components=n_components)\n",
    "X_pca = pca.fit_transform(X)\n",
    "\n",
    "colors = [\"navy\", \"turquoise\", \"darkorange\"]\n",
    "\n",
    "for X_transformed, title in [(X_ipca, \"Incremental PCA\"), (X_pca, \"PCA\")]:\n",
    "    plt.figure(figsize=(8, 8))\n",
    "    for color, i, target_name in zip(colors, [0, 1, 2], iris.target_names):\n",
    "        plt.scatter(\n",
    "            X_transformed[y == i, 0],\n",
    "            X_transformed[y == i, 1],\n",
    "            color=color,\n",
    "            lw=2,\n",
    "            label=target_name,\n",
    "        )\n",
    "\n",
    "    if \"Incremental\" in title:\n",
    "        err = np.abs(np.abs(X_pca) - np.abs(X_ipca)).mean()\n",
    "        plt.title(title + \" of iris dataset\\nMean absolute unsigned error %.6f\" % err)\n",
    "    else:\n",
    "        plt.title(title + \" of iris dataset\")\n",
    "    plt.legend(loc=\"best\", shadow=False, scatterpoints=1)\n",
    "    plt.axis([-4, 4, -1.5, 1.5])\n",
    "\n",
    "plt.show()"
   ]
  },
  {
   "cell_type": "code",
   "execution_count": null,
   "metadata": {},
   "outputs": [],
   "source": [
    "X_transformed.shape"
   ]
  },
  {
   "cell_type": "code",
   "execution_count": null,
   "metadata": {},
   "outputs": [],
   "source": [
    "import sys\n",
    "sys.path.append(\"../..\")  # as a hack to import\n",
    "#from rpca.pcp import pcp\n",
    "from rpca.mwrpca import mwrpca\n",
    "from rpca.stoc_rpca  import stoc_rpca\n",
    "from rpca.omwrpca  import omwrpca\n",
    "from rpca.omwrpca_cp  import omwrpca_cp\n"
   ]
  },
  {
   "cell_type": "code",
   "execution_count": null,
   "metadata": {},
   "outputs": [],
   "source": [
    "# lambda_12 = lambda1 = 1.0/np.sqrt(max(X.shape))\n",
    "# Lhat, Shat, rank, Uhat = stoc_rpca(X, lambda1 = lambda_12, lambda2 = lambda_12, burnin=10)\n",
    "\n",
    "from rpca.pcp import pcp_v\n",
    "L, S, niter, rank, V = pcp_v(X)"
   ]
  },
  {
   "cell_type": "code",
   "execution_count": null,
   "metadata": {},
   "outputs": [],
   "source": [
    "import seaborn as sb\n",
    "\n",
    "fig, axs = plt.subplots(1, 2)\n",
    "sb.heatmap(pca.components_, ax=axs[0])\n",
    "axs[0].set_title('components')\n",
    "sb.heatmap(V[0:rank,:], ax=axs[1])\n",
    "axs[1].set_title('V')"
   ]
  },
  {
   "cell_type": "code",
   "execution_count": null,
   "metadata": {},
   "outputs": [],
   "source": [
    "X_pcp_trans = np.dot(X, V[0:rank,:].T)\n",
    "print(X_pcp_trans.shape)\n",
    "\n",
    "for color, i, target_name in zip(colors, [0, 1, 2], iris.target_names):\n",
    "    plt.scatter(\n",
    "        X_pcp_trans[y == i, 0],\n",
    "        X_pcp_trans[y == i, 1],\n",
    "        color=color,\n",
    "        lw=2,\n",
    "        label=target_name,\n",
    "    )\n",
    "# seperation is still very good"
   ]
  },
  {
   "cell_type": "code",
   "execution_count": null,
   "metadata": {},
   "outputs": [],
   "source": [
    "sb.pairplot(pd.DataFrame(X_pcp_trans))\n",
    "np.corrcoef(X_pcp_trans.T) # does not decorrelate"
   ]
  },
  {
   "cell_type": "code",
   "execution_count": null,
   "metadata": {},
   "outputs": [],
   "source": [
    "# Classic PCA\n",
    "sb.pairplot(pd.DataFrame(X_transformed))\n",
    "np.corrcoef(X_transformed.T)  # does decorrelate"
   ]
  },
  {
   "cell_type": "code",
   "execution_count": null,
   "metadata": {},
   "outputs": [],
   "source": [
    "X_transformed_ = np.dot(X-X.mean(), pca.components_.T)\n",
    "X_transformed - X_transformed_"
   ]
  },
  {
   "cell_type": "code",
   "execution_count": null,
   "metadata": {},
   "outputs": [],
   "source": [
    "# Principal Component Pursuit reconstruction\n",
    "\n",
    "import seaborn as sb\n",
    "\n",
    "fig, axs = plt.subplots(1, 3)\n",
    "sb.heatmap(X, ax=axs[0])\n",
    "axs[0].set_title('X')\n",
    "sb.heatmap(L, ax=axs[1])\n",
    "axs[1].set_title('L')\n",
    "sb.heatmap(S, ax=axs[2])\n",
    "axs[2].set_title('S')"
   ]
  },
  {
   "cell_type": "code",
   "execution_count": null,
   "metadata": {},
   "outputs": [],
   "source": [
    "# PCA reconstruction\n",
    "\n",
    "Lhat = pca.inverse_transform(X_pca)\n",
    "Shat = Lhat - X\n",
    "\n",
    "fig, axs = plt.subplots(1, 3)\n",
    "sb.heatmap(X, ax=axs[0])\n",
    "axs[0].set_title('X')\n",
    "sb.heatmap(Lhat, ax=axs[1])\n",
    "axs[1].set_title('Lhat')\n",
    "sb.heatmap(Shat, ax=axs[2])\n",
    "axs[2].set_title('Shat')\n"
   ]
  },
  {
   "cell_type": "code",
   "execution_count": null,
   "metadata": {},
   "outputs": [],
   "source": [
    "for color, i, target_name in zip(colors, [0, 1, 2], iris.target_names):\n",
    "    plt.scatter(\n",
    "        X[y == i, 0],\n",
    "        X[y == i, 1],\n",
    "        color=color,\n",
    "        lw=2,\n",
    "        label=target_name,\n",
    "    )"
   ]
  }
 ],
 "metadata": {
  "kernelspec": {
   "display_name": "notebooks",
   "language": "python",
   "name": "python3"
  },
  "language_info": {
   "codemirror_mode": {
    "name": "ipython",
    "version": 3
   },
   "file_extension": ".py",
   "mimetype": "text/x-python",
   "name": "python",
   "nbconvert_exporter": "python",
   "pygments_lexer": "ipython3",
   "version": "3.9.7"
  },
  "orig_nbformat": 4,
  "vscode": {
   "interpreter": {
    "hash": "338a72aac7f91a156ff26dc27f15d4923d163cb1b92a240ee2f043bf313bc6d6"
   }
  }
 },
 "nbformat": 4,
 "nbformat_minor": 2
}
